{
 "cells": [
  {
   "cell_type": "code",
   "execution_count": 2,
   "metadata": {},
   "outputs": [],
   "source": [
    "import spacy\n",
    "import re\n",
    "import json\n",
    "from collections import Counter, OrderedDict\n",
    "import locale\n",
    "from scipy.stats import rankdata\n",
    "import numpy as np\n",
    "import matplotlib.pyplot as plt\n",
    "import random\n",
    "from scipy.stats import pearsonr, spearmanr, linregress, logistic\n",
    "import nltk\n",
    "import pandas as pd\n",
    "import matplotlib.pyplot as plt\n",
    "import pickle\n",
    "from nltk.corpus import brown, gutenberg\n",
    "\n",
    "nlp = spacy.load('en')\n",
    "ps = nltk.stem.PorterStemmer()"
   ]
  },
  {
   "cell_type": "code",
   "execution_count": 63,
   "metadata": {},
   "outputs": [],
   "source": [
    "# with open('data/walden.txt') as f:\n",
    "#     text = f.readlines()\n",
    "    \n",
    "# text = re.sub(r'(\\W[-—]|\\n)', ' ', ''.join(text))\n",
    "# docs = nlp(text)\n",
    "# words = [ps.stem(tok.lemma_.lower()) for tok in docs if re.fullmatch(r'[A-Za-z\\-\\']+', tok.lemma_)]"
   ]
  },
  {
   "cell_type": "code",
   "execution_count": 3,
   "metadata": {},
   "outputs": [],
   "source": [
    "glove_words = pickle.load(open('data/glove_words.pickle', 'rb'))"
   ]
  },
  {
   "cell_type": "code",
   "execution_count": 4,
   "metadata": {},
   "outputs": [
    {
     "data": {
      "text/plain": [
       "(187853, 7026)"
      ]
     },
     "execution_count": 4,
     "metadata": {},
     "output_type": "execute_result"
    }
   ],
   "source": [
    "words = [word.lower() for word in gutenberg.words('austen-emma.txt') if word.lower() in glove_words]\n",
    "len(words), len(set(words))"
   ]
  },
  {
   "cell_type": "code",
   "execution_count": 6,
   "metadata": {},
   "outputs": [],
   "source": [
    "word_levels = json.load(open('data/word-levels.json'), object_pairs_hook=OrderedDict)"
   ]
  },
  {
   "cell_type": "code",
   "execution_count": 77,
   "metadata": {},
   "outputs": [
    {
     "name": "stdout",
     "output_type": "stream",
     "text": [
      "Pretty printing has been turned OFF\n"
     ]
    },
    {
     "data": {
      "text/plain": [
       "['[', 'emma', 'by', 'jane', 'austen', '1816', ']', 'volume', 'i', 'chapter', 'i', 'emma', 'woodhouse', ',', 'handsome', ',', 'clever', ',', 'and', 'rich', ',', 'with', 'a', 'comfortable', 'home', 'and', 'happy', 'disposition', ',', 'seemed', 'to', 'unite', 'some', 'of', 'the', 'best', 'blessings', 'of', 'existence', ';', 'and', 'had', 'lived', 'nearly', 'twenty', '-', 'one', 'years', 'in', 'the', 'world', 'with', 'very', 'little', 'to', 'distress', 'or', 'vex', 'her', '.', 'she', 'was', 'the', 'youngest', 'of', 'the', 'two', 'daughters', 'of', 'a', 'most', 'affectionate', ',', 'indulgent', 'father', ';', 'and', 'had', ',', 'in', 'consequence', 'of', 'her', 'sister', \"'\", 's', 'marriage', ',', 'been', 'mistress', 'of', 'his', 'house', 'from', 'a', 'very', 'early', 'period', '.', 'her']"
      ]
     },
     "execution_count": 77,
     "metadata": {},
     "output_type": "execute_result"
    }
   ],
   "source": [
    "%pprint\n",
    "words[:100]"
   ]
  },
  {
   "cell_type": "code",
   "execution_count": 7,
   "metadata": {},
   "outputs": [
    {
     "data": {
      "text/plain": [
       "{'.', '_', '_______'}"
      ]
     },
     "execution_count": 7,
     "metadata": {},
     "output_type": "execute_result"
    }
   ],
   "source": [
    "set(word for word in words if word not in word_levels)"
   ]
  },
  {
   "cell_type": "code",
   "execution_count": 8,
   "metadata": {},
   "outputs": [],
   "source": [
    "words = [word for word in words if word in word_levels]"
   ]
  },
  {
   "cell_type": "code",
   "execution_count": 40,
   "metadata": {},
   "outputs": [],
   "source": [
    "def simulate(ability, words, levels, mistake=0.001, guess=0.5):\n",
    "    lookup = []\n",
    "    seen = Counter()\n",
    "    known = set()\n",
    "    lookedup = set()\n",
    "    for word in words:\n",
    "        if word not in levels:\n",
    "            continue\n",
    "        if random.random() < mistake:\n",
    "            lookup.append(word)\n",
    "        else:\n",
    "            if word not in seen:\n",
    "                p = 1/(1 + np.exp(levels[word]-ability))\n",
    "                if random.random() < p:\n",
    "                    known.add(word)\n",
    "            if word not in known and word not in lookedup:\n",
    "                if random.random() >= np.power(guess, seen[word]+1):\n",
    "                    lookup.append(word)\n",
    "                    lookedup.add(word)\n",
    "        seen[word] += 1\n",
    "    return lookup"
   ]
  },
  {
   "cell_type": "code",
   "execution_count": 32,
   "metadata": {},
   "outputs": [],
   "source": [
    "def avg_level(words_levels, lookup):\n",
    "    return np.nanmean(np.vectorize(word_levels.get)(lookup))"
   ]
  },
  {
   "cell_type": "code",
   "execution_count": 73,
   "metadata": {},
   "outputs": [],
   "source": [
    "def sim(guess):\n",
    "    abilities = np.repeat(np.arange(13),100)\n",
    "    lookups = [simulate(a, words, word_levels, mistake=0.001, guess=guess) for a in abilities]\n",
    "\n",
    "    avg_levels =np.array([avg_level(word_levels, l) for l in lookups])\n",
    "    print(pearsonr(abilities, avg_levels))\n",
    "\n",
    "    plt.boxplot(avg_levels.reshape(13, 100).T)\n",
    "    plt.xlabel('ability')\n",
    "    plt.ylabel('average level of looked up words')\n",
    "    plt.title(guess)\n",
    "    plt.show()"
   ]
  },
  {
   "cell_type": "code",
   "execution_count": 74,
   "metadata": {
    "scrolled": false
   },
   "outputs": [
    {
     "name": "stdout",
     "output_type": "stream",
     "text": [
      "(-0.3314938894827788, 1.0270631345956059e-34)\n"
     ]
    },
    {
     "data": {
      "image/png": "[encoded data removed]",
      "text/plain": [
       "<Figure size 432x288 with 1 Axes>"
      ]
     },
     "metadata": {
      "needs_background": "light"
     },
     "output_type": "display_data"
    },
    {
     "name": "stdout",
     "output_type": "stream",
     "text": [
      "(-0.3588295635587714, 8.669024257821837e-41)\n"
     ]
    },
    {
     "data": {
      "image/png": "[encoded data removed]",
      "text/plain": [
       "<Figure size 432x288 with 1 Axes>"
      ]
     },
     "metadata": {
      "needs_background": "light"
     },
     "output_type": "display_data"
    },
    {
     "name": "stdout",
     "output_type": "stream",
     "text": [
      "(-0.38104038076288577, 3.5082081621063556e-46)\n"
     ]
    },
    {
     "data": {
      "image/png": "[encoded data removed]",
      "text/plain": [
       "<Figure size 432x288 with 1 Axes>"
      ]
     },
     "metadata": {
      "needs_background": "light"
     },
     "output_type": "display_data"
    },
    {
     "name": "stdout",
     "output_type": "stream",
     "text": [
      "(-0.4076488332834418, 3.236094966319939e-53)\n"
     ]
    },
    {
     "data": {
      "image/png": "[encoded data removed]",
      "text/plain": [
       "<Figure size 432x288 with 1 Axes>"
      ]
     },
     "metadata": {
      "needs_background": "light"
     },
     "output_type": "display_data"
    },
    {
     "name": "stdout",
     "output_type": "stream",
     "text": [
      "(-0.43264485098380806, 1.9654351992993992e-60)\n"
     ]
    },
    {
     "data": {
      "image/png": "[encoded data removed]",
      "text/plain": [
       "<Figure size 432x288 with 1 Axes>"
      ]
     },
     "metadata": {
      "needs_background": "light"
     },
     "output_type": "display_data"
    },
    {
     "name": "stdout",
     "output_type": "stream",
     "text": [
      "(-0.46808098490064715, 9.294242334396788e-72)\n"
     ]
    },
    {
     "data": {
      "image/png": "[encoded data removed]",
      "text/plain": [
       "<Figure size 432x288 with 1 Axes>"
      ]
     },
     "metadata": {
      "needs_background": "light"
     },
     "output_type": "display_data"
    },
    {
     "name": "stdout",
     "output_type": "stream",
     "text": [
      "(-0.504157032647264, 9.622985145541682e-85)\n"
     ]
    },
    {
     "data": {
      "image/png": "[encoded data removed]",
      "text/plain": [
       "<Figure size 432x288 with 1 Axes>"
      ]
     },
     "metadata": {
      "needs_background": "light"
     },
     "output_type": "display_data"
    },
    {
     "name": "stdout",
     "output_type": "stream",
     "text": [
      "(-0.5540201902686447, 1.8275791961074236e-105)\n"
     ]
    },
    {
     "data": {
      "image/png": "[encoded data removed]",
      "text/plain": [
       "<Figure size 432x288 with 1 Axes>"
      ]
     },
     "metadata": {
      "needs_background": "light"
     },
     "output_type": "display_data"
    },
    {
     "name": "stdout",
     "output_type": "stream",
     "text": [
      "(-0.6229278055979512, 1.361267630869793e-140)\n"
     ]
    },
    {
     "data": {
      "image/png": "[encoded data removed]",
      "text/plain": [
       "<Figure size 432x288 with 1 Axes>"
      ]
     },
     "metadata": {
      "needs_background": "light"
     },
     "output_type": "display_data"
    },
    {
     "data": {
      "text/plain": [
       "[None, None, None, None, None, None, None, None, None]"
      ]
     },
     "execution_count": 74,
     "metadata": {},
     "output_type": "execute_result"
    }
   ],
   "source": [
    "[sim(i) for i in np.arange(0.1, 1, 0.1)]"
   ]
  },
  {
   "cell_type": "code",
   "execution_count": null,
   "metadata": {},
   "outputs": [],
   "source": [
    "user id, ability, know words"
   ]
  },
  {
   "cell_type": "code",
   "execution_count": 11,
   "metadata": {},
   "outputs": [
    {
     "data": {
      "text/plain": [
       "7023"
      ]
     },
     "execution_count": 11,
     "metadata": {},
     "output_type": "execute_result"
    }
   ],
   "source": [
    "vocab = list(sorted(set(words)))\n",
    "len(vocab)"
   ]
  },
  {
   "cell_type": "code",
   "execution_count": 13,
   "metadata": {},
   "outputs": [],
   "source": [
    "def simulate_users(size):\n",
    "    abilities = np.repeat(np.arange(13), size)\n",
    "    users = dict()\n",
    "    for user_id, ability in enumerate(abilities):\n",
    "        known = [random.random() < 1/(1 + np.exp(word_levels[word]-ability)) for word in vocab]\n",
    "        users[user_id] = dict(ability=ability, known=known)\n",
    "    return users"
   ]
  },
  {
   "cell_type": "code",
   "execution_count": 17,
   "metadata": {},
   "outputs": [],
   "source": [
    "pickle.dump(dict(vocab=vocab, words=words), open('data/vocab.pickle', 'wb'))"
   ]
  },
  {
   "cell_type": "code",
   "execution_count": 20,
   "metadata": {},
   "outputs": [],
   "source": [
    "pickle.dump(simulate_users(10), open('data/users-test.pickle', 'wb'))"
   ]
  },
  {
   "cell_type": "code",
   "execution_count": 18,
   "metadata": {},
   "outputs": [],
   "source": [
    "pickle.dump(simulate_users(1), open('data/users-teeny.pickle', 'wb'))"
   ]
  },
  {
   "cell_type": "code",
   "execution_count": 109,
   "metadata": {},
   "outputs": [],
   "source": [
    "pickle.dump(simulate_users(100), open('data/users-tiny.pickle', 'wb'))"
   ]
  },
  {
   "cell_type": "code",
   "execution_count": 14,
   "metadata": {},
   "outputs": [],
   "source": [
    "pickle.dump(simulate_users(1000), open('data/users.pickle', 'wb'))"
   ]
  },
  {
   "cell_type": "code",
   "execution_count": 9,
   "metadata": {},
   "outputs": [],
   "source": [
    "def simulate_lookups(users, words, mistake=0.001, guess=0.5):\n",
    "    lookups = dict()\n",
    "    for user_id, data in users.items():\n",
    "        vocab_knowledge = dict(zip(vocab, data['known']))\n",
    "        lookups[user_id]=dict(lookup=[], seen=[])\n",
    "        seen = Counter()\n",
    "        looked = Counter()\n",
    "        for word in words:\n",
    "            seen[word]+=1\n",
    "            if random.random() < mistake:\n",
    "                looked[word]+=1\n",
    "            elif not vocab_knowledge[word]:\n",
    "                if random.random() >= np.power(guess, seen[word]/(np.power(2, looked[word]))):\n",
    "                    looked[word]+=1\n",
    "            lookups[user_id]['lookup'].append(looked[word])\n",
    "            lookups[user_id]['seen'].append(seen[word])\n",
    "    return lookups"
   ]
  },
  {
   "cell_type": "code",
   "execution_count": null,
   "metadata": {},
   "outputs": [],
   "source": [
    "simulate_lookups(simulate_users(1), words)"
   ]
  },
  {
   "cell_type": "code",
   "execution_count": 19,
   "metadata": {},
   "outputs": [],
   "source": [
    "pickle.dump(simulate_lookups(pickle.load(open('data/users-teeny.pickle', 'rb')), words), open('data/lookups-teeny.pickle', 'wb'))"
   ]
  },
  {
   "cell_type": "code",
   "execution_count": null,
   "metadata": {},
   "outputs": [],
   "source": [
    "pickle.dump(simulate_lookups(pickle.load(open('data/users-tiny.pickle', 'rb')), words), open('data/lookups-tiny.pickle', 'wb'))"
   ]
  },
  {
   "cell_type": "code",
   "execution_count": 15,
   "metadata": {},
   "outputs": [],
   "source": [
    "pickle.dump(simulate_lookups(pickle.load(open('data/users.pickle', 'rb')), words), open('data/lookups.pickle', 'wb'))"
   ]
  },
  {
   "cell_type": "code",
   "execution_count": 21,
   "metadata": {},
   "outputs": [],
   "source": [
    "pickle.dump(simulate_lookups(pickle.load(open('data/users-test.pickle', 'rb')), words), open('data/lookups-test.pickle', 'wb'))"
   ]
  },
  {
   "cell_type": "code",
   "execution_count": null,
   "metadata": {},
   "outputs": [],
   "source": []
  }
 ],
 "metadata": {
  "kernelspec": {
   "display_name": "cs398",
   "language": "python",
   "name": "cs398"
  },
  "language_info": {
   "codemirror_mode": {
    "name": "ipython",
    "version": 3
   },
   "file_extension": ".py",
   "mimetype": "text/x-python",
   "name": "python",
   "nbconvert_exporter": "python",
   "pygments_lexer": "ipython3",
   "version": "3.7.4"
  }
 },
 "nbformat": 4,
 "nbformat_minor": 2
}
