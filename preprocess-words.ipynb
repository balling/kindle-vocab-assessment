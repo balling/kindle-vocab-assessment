{
 "cells": [
  {
   "cell_type": "code",
   "execution_count": 1,
   "metadata": {},
   "outputs": [],
   "source": [
    "import spacy\n",
    "import re\n",
    "import json\n",
    "from collections import Counter\n",
    "import locale\n",
    "from scipy.stats import rankdata\n",
    "import numpy as np\n",
    "import matplotlib.pyplot as plt\n",
    "import random\n",
    "from scipy.stats import pearsonr, spearmanr, linregress, logistic\n",
    "import nltk\n",
    "import pandas as pd\n",
    "\n",
    "nlp = spacy.load('en')\n",
    "ps = nltk.stem.PorterStemmer()"
   ]
  },
  {
   "cell_type": "code",
   "execution_count": null,
   "metadata": {},
   "outputs": [],
   "source": [
    "word_frequency = Counter()\n",
    "for row in open('1gramsbyfreq.txt'):\n",
    "    cells = row.split()\n",
    "    if re.fullmatch(r'[A-Za-z\\-\\']+', cells[0]):\n",
    "        word_frequency[ps.stem(cells[0].lower())] += locale.atoi(cells[1])\n",
    "words, counts = zip(*word_frequency.items())\n",
    "ranks = rankdata(-np.array(counts))\n",
    "levels = np.floor(np.log2(np.ceil(ranks/100)))\n",
    "words_levels = dict(zip(words, levels))\n",
    "words_df = pd.DataFrame(words_levels.items(), columns = ['word', 'level'])"
   ]
  },
  {
   "cell_type": "code",
   "execution_count": 10,
   "metadata": {},
   "outputs": [],
   "source": [
    "words_df.to_csv('word-levels.csv', index=False)"
   ]
  },
  {
   "cell_type": "code",
   "execution_count": 11,
   "metadata": {},
   "outputs": [],
   "source": [
    "json.dump(words_levels, open('word-levels.json','w'))"
   ]
  },
  {
   "cell_type": "code",
   "execution_count": null,
   "metadata": {},
   "outputs": [],
   "source": []
  }
 ],
 "metadata": {
  "kernelspec": {
   "display_name": "cs398",
   "language": "python",
   "name": "cs398"
  },
  "language_info": {
   "codemirror_mode": {
    "name": "ipython",
    "version": 3
   },
   "file_extension": ".py",
   "mimetype": "text/x-python",
   "name": "python",
   "nbconvert_exporter": "python",
   "pygments_lexer": "ipython3",
   "version": "3.7.4"
  }
 },
 "nbformat": 4,
 "nbformat_minor": 2
}
