{
 "cells": [
  {
   "cell_type": "code",
   "execution_count": 12,
   "metadata": {},
   "outputs": [],
   "source": [
    "import spacy\n",
    "import re\n",
    "import json\n",
    "from collections import Counter\n",
    "import locale\n",
    "from scipy.stats import rankdata\n",
    "import numpy as np\n",
    "import matplotlib.pyplot as plt\n",
    "import random\n",
    "from scipy.stats import pearsonr, spearmanr, linregress, logistic\n",
    "import nltk\n",
    "import pandas as pd\n",
    "import pickle\n",
    "\n",
    "nlp = spacy.load('en')\n",
    "ps = nltk.stem.PorterStemmer()"
   ]
  },
  {
   "cell_type": "code",
   "execution_count": 13,
   "metadata": {},
   "outputs": [],
   "source": [
    "glove_words = pickle.load(open('data/glove_words.pickle', 'rb'))"
   ]
  },
  {
   "cell_type": "code",
   "execution_count": null,
   "metadata": {},
   "outputs": [],
   "source": [
    "word_frequency = Counter()\n",
    "for row in open('data/1gramsbyfreq.txt'):\n",
    "    cells = row.split()\n",
    "    word = cells[0].lower()\n",
    "#     if re.fullmatch(r'[A-Za-z\\-\\']+', cells[0]):\n",
    "#         word_frequency[ps.stem(cells[0].lower())] += locale.atoi(cells[1])\n",
    "    if word in glove_words:\n",
    "        word_frequency[word] += locale.atoi(cells[1])\n",
    "    else:\n",
    "        print(word)\n",
    "words, counts = zip(*word_frequency.items())\n",
    "ranks = rankdata(-np.array(counts))\n",
    "levels = np.floor(np.log2(np.ceil(ranks/100)))\n",
    "words_levels = dict(zip(words, levels))\n",
    "words_df = pd.DataFrame(words_levels.items(), columns = ['word', 'level'])"
   ]
  },
  {
   "cell_type": "code",
   "execution_count": 16,
   "metadata": {},
   "outputs": [
    {
     "data": {
      "text/plain": [
       "(564355, 2195885)"
      ]
     },
     "execution_count": 16,
     "metadata": {},
     "output_type": "execute_result"
    }
   ],
   "source": [
    "len(words_df), len(glove_words)"
   ]
  },
  {
   "cell_type": "code",
   "execution_count": 18,
   "metadata": {},
   "outputs": [],
   "source": [
    "words_df.to_csv('data/word-levels.csv', index=False)"
   ]
  },
  {
   "cell_type": "code",
   "execution_count": 19,
   "metadata": {},
   "outputs": [],
   "source": [
    "json.dump(words_levels, open('data/word-levels.json','w'))"
   ]
  },
  {
   "cell_type": "code",
   "execution_count": 20,
   "metadata": {},
   "outputs": [
    {
     "data": {
      "text/plain": [
       "12.0"
      ]
     },
     "execution_count": 20,
     "metadata": {},
     "output_type": "execute_result"
    }
   ],
   "source": [
    "words_df.level.max()"
   ]
  },
  {
   "cell_type": "code",
   "execution_count": null,
   "metadata": {},
   "outputs": [],
   "source": []
  }
 ],
 "metadata": {
  "kernelspec": {
   "display_name": "cs398",
   "language": "python",
   "name": "cs398"
  },
  "language_info": {
   "codemirror_mode": {
    "name": "ipython",
    "version": 3
   },
   "file_extension": ".py",
   "mimetype": "text/x-python",
   "name": "python",
   "nbconvert_exporter": "python",
   "pygments_lexer": "ipython3",
   "version": "3.7.4"
  }
 },
 "nbformat": 4,
 "nbformat_minor": 2
}
